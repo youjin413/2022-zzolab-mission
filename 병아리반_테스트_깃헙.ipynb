{
  "nbformat": 4,
  "nbformat_minor": 0,
  "metadata": {
    "colab": {
      "name": "병아리반 테스트-깃헙.ipynb",
      "provenance": [],
      "authorship_tag": "ABX9TyOWgs9i4z5h+OVCz00nidyo",
      "include_colab_link": true
    },
    "kernelspec": {
      "name": "python3",
      "display_name": "Python 3"
    },
    "language_info": {
      "name": "python"
    }
  },
  "cells": [
    {
      "cell_type": "markdown",
      "metadata": {
        "id": "view-in-github",
        "colab_type": "text"
      },
      "source": [
        "<a href=\"https://colab.research.google.com/github/youjin413/2022-zzolab-mission/blob/main/%EB%B3%91%EC%95%84%EB%A6%AC%EB%B0%98_%ED%85%8C%EC%8A%A4%ED%8A%B8_%EA%B9%83%ED%97%99.ipynb\" target=\"_parent\"><img src=\"https://colab.research.google.com/assets/colab-badge.svg\" alt=\"Open In Colab\"/></a>"
      ]
    },
    {
      "cell_type": "code",
      "execution_count": 1,
      "metadata": {
        "colab": {
          "base_uri": "https://localhost:8080/"
        },
        "id": "RqRaXC6aSZmy",
        "outputId": "db5946e2-0789-468d-bf45-ceb226014913"
      },
      "outputs": [
        {
          "output_type": "stream",
          "name": "stdout",
          "text": [
            "hello world\n"
          ]
        }
      ],
      "source": [
        "print('hello world')"
      ]
    },
    {
      "cell_type": "code",
      "source": [
        ""
      ],
      "metadata": {
        "id": "a7qE2lpjSjdR"
      },
      "execution_count": null,
      "outputs": []
    }
  ]
}